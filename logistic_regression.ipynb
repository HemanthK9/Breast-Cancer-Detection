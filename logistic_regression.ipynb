{
 "cells": [
  {
   "cell_type": "code",
   "execution_count": 4,
   "metadata": {},
   "outputs": [],
   "source": [
    "# import dependencies\n",
    "# data cleaning and manipulation \n",
    "import pandas as pd\n",
    "import numpy as np\n",
    "\n",
    "# data visualization\n",
    "import matplotlib.pyplot as plt\n",
    "import seaborn as sns\n",
    "\n",
    "# machine learning\n",
    "from sklearn.preprocessing import StandardScaler\n",
    "\n",
    "import sklearn.linear_model as skl_lm\n",
    "from sklearn import preprocessing\n",
    "from sklearn import neighbors\n",
    "from sklearn.metrics import confusion_matrix, classification_report, precision_score\n",
    "from sklearn.model_selection import train_test_split\n",
    "\n",
    "\n",
    "import statsmodels.api as sm\n",
    "import statsmodels.formula.api as smf\n",
    "\n",
    "\n",
    "# initialize some package settings\n",
    "sns.set(style=\"whitegrid\", color_codes=True, font_scale=1.3)\n",
    "\n",
    "%matplotlib inline"
   ]
  },
  {
   "cell_type": "code",
   "execution_count": 5,
   "metadata": {},
   "outputs": [],
   "source": [
    "df = pd.read_csv('data/data.csv')"
   ]
  },
  {
   "cell_type": "code",
   "execution_count": 6,
   "metadata": {},
   "outputs": [
    {
     "name": "stdout",
     "output_type": "stream",
     "text": [
      "Shape of the dataframe:  (569, 13)\n"
     ]
    },
    {
     "data": {
      "text/plain": [
       "Index(['diagnosis', 'radius_mean', 'texture_mean', 'smoothness_mean',\n",
       "       'compactness_mean', 'symmetry_mean', 'fractal_dimension_mean',\n",
       "       'radius_se', 'texture_se', 'smoothness_se', 'compactness_se',\n",
       "       'symmetry_se', 'fractal_dimension_se'],\n",
       "      dtype='object')"
      ]
     },
     "execution_count": 6,
     "metadata": {},
     "output_type": "execute_result"
    }
   ],
   "source": [
    "cols = [\"id\",\n",
    "        \"Unnamed: 32\",\n",
    "        'radius_worst', \n",
    "        'texture_worst', \n",
    "        'perimeter_worst', \n",
    "        'area_worst', \n",
    "        'smoothness_worst', \n",
    "        'compactness_worst', \n",
    "        'concavity_worst',\n",
    "        'concave points_worst', \n",
    "        'symmetry_worst', \n",
    "        'fractal_dimension_worst',\n",
    "        'perimeter_mean',\n",
    "        'perimeter_se', \n",
    "        'area_mean', \n",
    "        'area_se',\n",
    "        'concavity_mean',\n",
    "        'concavity_se', \n",
    "        'concave points_mean', \n",
    "        'concave points_se']\n",
    "df = df.drop(cols, axis=1)\n",
    "print('Shape of the dataframe: ', df.shape)\n",
    "# verify remaining columns\n",
    "df.columns"
   ]
  },
  {
   "cell_type": "markdown",
   "metadata": {},
   "source": [
    "# Logistic Regression Model\n",
    "\n",
    "This model can take some unlabeled data and effectively assign each observation a probability ranging from 0 to 1. This is the key feature of a logistic regression model."
   ]
  },
  {
   "cell_type": "code",
   "execution_count": 8,
   "metadata": {},
   "outputs": [],
   "source": [
    "# Split the data into training and testing sets\n",
    "#We will set the test size to 0.3; \n",
    "#This means 70% of the data will be assigned to the training set, and the remaining 30% will be used as a test set. \n",
    "#In order to obtain consistent results, we will set the random state parameter to a value of 40.\n",
    "X = df\n",
    "y = df['diagnosis']\n",
    "\n",
    "X_train, X_test, y_train, y_test = train_test_split(X, y, test_size=0.3, random_state=40)"
   ]
  },
  {
   "cell_type": "code",
   "execution_count": 9,
   "metadata": {},
   "outputs": [
    {
     "name": "stdout",
     "output_type": "stream",
     "text": [
      "diagnosis ~ radius_mean + texture_mean + smoothness_mean + compactness_mean + symmetry_mean + fractal_dimension_mean + radius_se + texture_se + smoothness_se + compactness_se + symmetry_se + fractal_dimension_se \n",
      "\n"
     ]
    }
   ],
   "source": [
    "# Create a string for the formula\n",
    "cols = df.columns.drop('diagnosis')\n",
    "formula = 'diagnosis ~ ' + ' + '.join(cols)\n",
    "print(formula, '\\n')"
   ]
  },
  {
   "cell_type": "code",
   "execution_count": 10,
   "metadata": {},
   "outputs": [
    {
     "name": "stdout",
     "output_type": "stream",
     "text": [
      "                        Generalized Linear Model Regression Results                         \n",
      "============================================================================================\n",
      "Dep. Variable:     ['diagnosis[B]', 'diagnosis[M]']   No. Observations:                  398\n",
      "Model:                                          GLM   Df Residuals:                      385\n",
      "Model Family:                              Binomial   Df Model:                           12\n",
      "Link Function:                                logit   Scale:                          1.0000\n",
      "Method:                                        IRLS   Log-Likelihood:                -55.340\n",
      "Date:                              Thu, 12 Mar 2020   Deviance:                       110.68\n",
      "Time:                                      19:18:35   Pearson chi2:                     125.\n",
      "No. Iterations:                                   9                                         \n",
      "Covariance Type:                          nonrobust                                         \n",
      "==========================================================================================\n",
      "                             coef    std err          z      P>|z|      [0.025      0.975]\n",
      "------------------------------------------------------------------------------------------\n",
      "Intercept                 44.5427     11.787      3.779      0.000      21.441      67.644\n",
      "radius_mean               -1.1610      0.301     -3.862      0.000      -1.750      -0.572\n",
      "texture_mean              -0.4237      0.087     -4.866      0.000      -0.594      -0.253\n",
      "smoothness_mean          -85.3981     40.976     -2.084      0.037    -165.709      -5.088\n",
      "compactness_mean         -16.7104     22.510     -0.742      0.458     -60.829      27.408\n",
      "symmetry_mean            -46.2721     17.767     -2.604      0.009     -81.095     -11.449\n",
      "fractal_dimension_mean   -49.1536    121.888     -0.403      0.687    -288.050     189.742\n",
      "radius_se                 -7.1916      2.806     -2.563      0.010     -12.691      -1.692\n",
      "texture_se                 0.1849      0.784      0.236      0.814      -1.353       1.722\n",
      "smoothness_se            163.6068    159.702      1.024      0.306    -149.403     476.616\n",
      "compactness_se           -31.1808     42.772     -0.729      0.466    -115.012      52.650\n",
      "symmetry_se               74.7366     51.458      1.452      0.146     -26.119     175.592\n",
      "fractal_dimension_se     824.1245    412.040      2.000      0.045      16.541    1631.708\n",
      "==========================================================================================\n"
     ]
    }
   ],
   "source": [
    "# Run the model and report the results\n",
    "model = smf.glm(formula=formula, data=X_train, family=sm.families.Binomial())\n",
    "logistic_fit = model.fit()\n",
    "\n",
    "print(logistic_fit.summary())"
   ]
  },
  {
   "cell_type": "code",
   "execution_count": 12,
   "metadata": {},
   "outputs": [
    {
     "data": {
      "text/plain": [
       "295    0.997187\n",
       "16     0.324251\n",
       "431    0.996906\n",
       "453    0.964710\n",
       "15     0.000544\n",
       "dtype: float64"
      ]
     },
     "execution_count": 12,
     "metadata": {},
     "output_type": "execute_result"
    }
   ],
   "source": [
    "# predict the test data and show the first 5 predictions\n",
    "predictions = logistic_fit.predict(X_test)\n",
    "predictions.head()"
   ]
  },
  {
   "cell_type": "code",
   "execution_count": 16,
   "metadata": {},
   "outputs": [
    {
     "data": {
      "text/plain": [
       "['B', 'M', 'B', 'B', 'M']"
      ]
     },
     "execution_count": 16,
     "metadata": {},
     "output_type": "execute_result"
    }
   ],
   "source": [
    "# Convert these probabilities into nominal values and check the first 5 predictions again.\n",
    "predictions_nominal = [ \"M\" if x < 0.5 else \"B\" for x in predictions]\n",
    "predictions_nominal[:5]"
   ]
  },
  {
   "cell_type": "code",
   "execution_count": 17,
   "metadata": {},
   "outputs": [
    {
     "name": "stdout",
     "output_type": "stream",
     "text": [
      "              precision    recall  f1-score   support\n",
      "\n",
      "           B      0.982     0.965     0.974       115\n",
      "           M      0.931     0.964     0.947        56\n",
      "\n",
      "    accuracy                          0.965       171\n",
      "   macro avg      0.957     0.965     0.961       171\n",
      "weighted avg      0.966     0.965     0.965       171\n",
      "\n",
      "Confusion Matrix: \n",
      " [[111   4]\n",
      " [  2  54]] \n",
      "\n",
      "True Negative: 111\n",
      "False Positive: 4\n",
      "False Negative: 2\n",
      "True Positive: 54\n",
      "Correct Predictions 96.5 %\n"
     ]
    }
   ],
   "source": [
    "print(classification_report(y_test, predictions_nominal, digits=3))\n",
    "\n",
    "cfm = confusion_matrix(y_test, predictions_nominal)\n",
    "\n",
    "true_negative = cfm[0][0]\n",
    "false_positive = cfm[0][1]\n",
    "false_negative = cfm[1][0]\n",
    "true_positive = cfm[1][1]\n",
    "\n",
    "print('Confusion Matrix: \\n', cfm, '\\n')\n",
    "\n",
    "print('True Negative:', true_negative)\n",
    "print('False Positive:', false_positive)\n",
    "print('False Negative:', false_negative)\n",
    "print('True Positive:', true_positive)\n",
    "print('Correct Predictions', \n",
    "      round((true_negative + true_positive) / len(predictions_nominal) * 100, 1), '%')"
   ]
  },
  {
   "cell_type": "markdown",
   "metadata": {},
   "source": [
    "### The key takeaway from this model is the fact that it has successfully predicted 96.5% of all observations.\n",
    "\n",
    "### This implies an accuracy of 96.5%"
   ]
  }
 ],
 "metadata": {
  "kernelspec": {
   "display_name": "Python 3",
   "language": "python",
   "name": "python3"
  },
  "language_info": {
   "codemirror_mode": {
    "name": "ipython",
    "version": 3
   },
   "file_extension": ".py",
   "mimetype": "text/x-python",
   "name": "python",
   "nbconvert_exporter": "python",
   "pygments_lexer": "ipython3",
   "version": "3.6.8"
  }
 },
 "nbformat": 4,
 "nbformat_minor": 2
}
